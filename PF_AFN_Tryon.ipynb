{
  "nbformat": 4,
  "nbformat_minor": 0,
  "metadata": {
    "colab": {
      "provenance": [],
      "gpuType": "T4",
      "authorship_tag": "ABX9TyOAiSsc4mXuWbfY0h0EmRcO",
      "include_colab_link": true
    },
    "kernelspec": {
      "name": "python3",
      "display_name": "Python 3"
    },
    "language_info": {
      "name": "python"
    },
    "accelerator": "GPU"
  },
  "cells": [
    {
      "cell_type": "markdown",
      "metadata": {
        "id": "view-in-github",
        "colab_type": "text"
      },
      "source": [
        "<a href=\"https://colab.research.google.com/github/gtejasvarma/DOC-VTON/blob/main/PF_AFN_Tryon.ipynb\" target=\"_parent\"><img src=\"https://colab.research.google.com/assets/colab-badge.svg\" alt=\"Open In Colab\"/></a>"
      ]
    },
    {
      "cell_type": "markdown",
      "source": [
        "# Implementation of the following [github repo](https://https://github.com/gtejasvarma/PF-AFN) in colab\n",
        "\n",
        "This colab can run by it-self.\n"
      ],
      "metadata": {
        "id": "dRKCJ7erSwHW"
      }
    },
    {
      "cell_type": "code",
      "source": [
        "using_colab = True"
      ],
      "metadata": {
        "id": "9vib-CJILnFk"
      },
      "execution_count": 1,
      "outputs": []
    },
    {
      "cell_type": "markdown",
      "source": [],
      "metadata": {
        "id": "F_082kSckATQ"
      }
    },
    {
      "cell_type": "code",
      "source": [
        "if using_colab:\n",
        "    import sys\n",
        "    !{sys.executable} -m pip install opencv-python matplotlib condacolab"
      ],
      "metadata": {
        "id": "v5bihYxZLoFn"
      },
      "execution_count": null,
      "outputs": []
    },
    {
      "cell_type": "code",
      "source": [
        "import condacolab\n",
        "condacolab.install()\n",
        "!conda create -n tryon python=3.6\n",
        "!source activate tryon\n",
        "!conda install cupy\n",
        "!pip install opencv-python torch torchvision"
      ],
      "metadata": {
        "colab": {
          "base_uri": "https://localhost:8080/"
        },
        "id": "64Y6vwYgXopr",
        "outputId": "843d62c9-3db4-4fc5-c352-0e6bb1d13ad8"
      },
      "execution_count": 3,
      "outputs": [
        {
          "output_type": "stream",
          "name": "stdout",
          "text": [
            "✨🍰✨ Everything looks OK!\n"
          ]
        }
      ]
    },
    {
      "cell_type": "code",
      "source": [
        "# Clone the entire repo.\n",
        "!git clone -l -s https://github.com/gtejasvarma/PF-AFN.git tryon\n",
        "!ls\n",
        "%cd tryon/PF-AFN_test/"
      ],
      "metadata": {
        "colab": {
          "base_uri": "https://localhost:8080/"
        },
        "id": "ac-9-kM4Zmk0",
        "outputId": "620b5af2-aed7-4a19-8ae8-fd9eb3cdf33a"
      },
      "execution_count": 13,
      "outputs": [
        {
          "output_type": "stream",
          "name": "stdout",
          "text": [
            "sample_data  tryon\n"
          ]
        }
      ]
    },
    {
      "cell_type": "code",
      "source": [
        "!bash test.sh"
      ],
      "metadata": {
        "id": "yiKmTi-BPs3l"
      },
      "execution_count": null,
      "outputs": []
    }
  ]
}